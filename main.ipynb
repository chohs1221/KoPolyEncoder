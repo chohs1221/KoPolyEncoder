{
 "cells": [
  {
   "cell_type": "code",
   "execution_count": 1,
   "source": [
    "import torch\r\n",
    "import torch.nn as nn\r\n",
    "from transformers import BertModel, BertPreTrainedModel\r\n",
    "import torch.nn.functional as F\r\n",
    "\r\n",
    "from kobert_tokenizer import KoBERTTokenizer\r\n"
   ],
   "outputs": [],
   "metadata": {}
  },
  {
   "cell_type": "code",
   "execution_count": 44,
   "source": [
    "class BiEncoder(BertPreTrainedModel):\r\n",
    "    def __init__(self, config):\r\n",
    "        super().__init__(config)\r\n",
    "\r\n",
    "        self.bert = BertModel(config)\r\n",
    "        \r\n",
    "        # Initialize weights and apply final processing\r\n",
    "        self.post_init()\r\n",
    "    \r\n",
    "    def forward(\r\n",
    "        self,\r\n",
    "        input_ids = None,\r\n",
    "        attention_mask = None,\r\n",
    "        token_type_ids = None,\r\n",
    "        candidate_input_ids = None,\r\n",
    "        candidate_attention_mask = None,\r\n",
    "        candidate_token_type_ids = None,\r\n",
    "        position_ids = None,\r\n",
    "        head_mask = None,\r\n",
    "        inputs_embeds = None,\r\n",
    "        output_attentions = None,\r\n",
    "        output_hidden_states = None,\r\n",
    "        training = False\r\n",
    "        ):\r\n",
    "        \r\n",
    "        context_output = self.bert(input_ids = input_ids,\r\n",
    "                                attention_mask= attention_mask,\r\n",
    "                                token_type_ids= token_type_ids,\r\n",
    "                                position_ids = position_ids,\r\n",
    "                                head_mask = head_mask,\r\n",
    "                                inputs_embeds = inputs_embeds,\r\n",
    "                                output_attentions = output_attentions,\r\n",
    "                                output_hidden_states = output_hidden_states,\r\n",
    "                                )\r\n",
    "\r\n",
    "        if training:\r\n",
    "            candidate_output = self.bert(input_ids = candidate_input_ids,\r\n",
    "                                    attention_mask = candidate_attention_mask, \r\n",
    "                                    token_type_ids = candidate_token_type_ids,\r\n",
    "                                    position_ids = position_ids,\r\n",
    "                                    head_mask = head_mask,\r\n",
    "                                    inputs_embeds = inputs_embeds,\r\n",
    "                                    output_attentions = output_attentions,\r\n",
    "                                    output_hidden_states = output_hidden_states,\r\n",
    "                                    )\r\n",
    "        \r\n",
    "            dot_product = torch.matmul(context_output[1], candidate_output[1].t())\r\n",
    "\r\n",
    "            loss_fnt = nn.CrossEntropyLoss()\r\n",
    "            loss = loss_fnt(dot_product, torch.arange(dot_product.shape[0]))\r\n",
    "\r\n",
    "            return loss, dot_product\r\n",
    "\r\n",
    "        return context_output[1]\r\n"
   ],
   "outputs": [],
   "metadata": {}
  },
  {
   "cell_type": "code",
   "execution_count": 45,
   "source": [
    "tokenizer = KoBERTTokenizer.from_pretrained('skt/kobert-base-v1')\r\n",
    "model = BiEncoder.from_pretrained('skt/kobert-base-v1')"
   ],
   "outputs": [
    {
     "output_type": "stream",
     "name": "stderr",
     "text": [
      "The tokenizer class you load from this checkpoint is not the same type as the class this function is called from. It may result in unexpected tokenization. \n",
      "The tokenizer class you load from this checkpoint is 'XLNetTokenizer'. \n",
      "The class this function is called from is 'KoBERTTokenizer'.\n"
     ]
    }
   ],
   "metadata": {}
  },
  {
   "cell_type": "code",
   "execution_count": 46,
   "source": [
    "seq = tokenizer(['i am a student', 'wqwei am a student'], padding='max_length', max_length=50, truncation=True, return_tensors='pt')\r\n",
    "seq2 = tokenizer(['i am a student', 'wqwei am a student'], padding='max_length', max_length=50, truncation=True, return_tensors='pt')\r\n",
    "\r\n",
    "output = model(input_ids = seq['input_ids'],\r\n",
    "                attention_mask = seq['attention_mask'],\r\n",
    "                token_type_ids = seq['token_type_ids'],\r\n",
    "                candidate_input_ids = seq2['input_ids'],\r\n",
    "                candidate_attention_mask = seq2['attention_mask'],\r\n",
    "                candidate_token_type_ids = seq2['token_type_ids'],\r\n",
    "                training = True)\r\n",
    "output"
   ],
   "outputs": [
    {
     "output_type": "stream",
     "name": "stdout",
     "text": [
      "tensor([[  2, 517, 405, 517, 373, 517, 367, 517, 441, 446, 388, 393,   3,   1,\n",
      "           1,   1,   1,   1,   1,   1,   1,   1,   1,   1,   1,   1,   1,   1,\n",
      "           1,   1,   1,   1,   1,   1,   1,   1,   1,   1,   1,   1,   1,   1,\n",
      "           1,   1,   1,   1,   1,   1,   1,   1],\n",
      "        [  2, 517, 455, 433, 455, 389, 405, 517, 373, 517, 367, 517, 441, 446,\n",
      "         388, 393,   3,   1,   1,   1,   1,   1,   1,   1,   1,   1,   1,   1,\n",
      "           1,   1,   1,   1,   1,   1,   1,   1,   1,   1,   1,   1,   1,   1,\n",
      "           1,   1,   1,   1,   1,   1,   1,   1]])\n"
     ]
    },
    {
     "output_type": "execute_result",
     "data": {
      "text/plain": [
       "(tensor(3.3868, grad_fn=<NllLossBackward>),\n",
       " tensor([[ 66.0941,  72.8666],\n",
       "         [ 72.8666, 169.8437]], grad_fn=<MmBackward>))"
      ]
     },
     "metadata": {},
     "execution_count": 46
    }
   ],
   "metadata": {}
  }
 ],
 "metadata": {
  "orig_nbformat": 4,
  "language_info": {
   "name": "python",
   "version": "3.8.10",
   "mimetype": "text/x-python",
   "codemirror_mode": {
    "name": "ipython",
    "version": 3
   },
   "pygments_lexer": "ipython3",
   "nbconvert_exporter": "python",
   "file_extension": ".py"
  },
  "kernelspec": {
   "name": "python3",
   "display_name": "Python 3.8.10 64-bit ('pytorch17_cuda11': venv)"
  },
  "interpreter": {
   "hash": "6b370c5f79b32d0ca85832fe0eea34a8e089f2e478fb433874d6e8a8e5763002"
  }
 },
 "nbformat": 4,
 "nbformat_minor": 2
}